{
 "cells": [
  {
   "cell_type": "markdown",
   "metadata": {
    "id": "Wi2eH9skDetn"
   },
   "source": [
    "# Budget Decider"
   ]
  },
  {
   "cell_type": "code",
   "execution_count": null,
   "metadata": {
    "id": "YGMXO7x5Y8lz"
   },
   "outputs": [],
   "source": [
    "import random\n",
    "import logging\n",
    "import numpy as np\n",
    "from tqdm.notebook import trange\n",
    "import math"
   ]
  },
  {
   "cell_type": "code",
   "execution_count": null,
   "metadata": {
    "id": "Zc7TI7lIDa2G"
   },
   "outputs": [],
   "source": [
    "import time\n",
    "import random\n",
    "import math\n",
    "import sys"
   ]
  },
  {
   "cell_type": "markdown",
   "metadata": {
    "id": "hFGraHk5HOBO"
   },
   "source": [
    "## Random Search"
   ]
  },
  {
   "cell_type": "code",
   "execution_count": null,
   "metadata": {
    "id": "sbU5ELk8HNTm"
   },
   "outputs": [],
   "source": [
    "def random_search(domain, fitness_function):\n",
    "  \n",
    "  # best_cost = sys.maxsize\n",
    "  best_cost = 0\n",
    "  for i in range(10000):\n",
    "    solution = [random.randint(domain[i][0],domain[i][1]) for i in range(len(domain))]\n",
    "    cost = fitness_function(solution)\n",
    "    if cost > best_cost:\n",
    "      best_cost = cost\n",
    "      best_solution = solution\n",
    "  return best_solution"
   ]
  },
  {
   "cell_type": "markdown",
   "metadata": {
    "id": "2HQgXrueD1YD"
   },
   "source": [
    "## Genetic Algorithm"
   ]
  },
  {
   "cell_type": "code",
   "execution_count": null,
   "metadata": {
    "id": "pQaollv4Da9K"
   },
   "outputs": [],
   "source": [
    "# Mutation Function\n",
    "\n",
    "def mutation(domain, step, solution):\n",
    "  gene = random.randint(0, len(domain) - 1)\n",
    "  mutant = solution\n",
    "  if random.random() < 0.5:\n",
    "    if solution[gene] != domain[gene][0]:\n",
    "      mutant = solution[0:gene] + [solution[gene] - step] + solution[gene + 1:]\n",
    "  else:\n",
    "    if solution[gene] != domain[gene][1]:\n",
    "      mutant = solution[0:gene] + [solution[gene] + step] + solution[gene + 1:]\n",
    "  return mutant\n",
    "\n",
    "# CrossOver Function \n",
    "\n",
    "def crossover(domain, solution1, solution2):\n",
    "  gene = random.randint(1, len(domain) - 2)\n",
    "  return solution1[0:gene] + solution2[gene:]\n",
    "\n",
    "# Main Genetic Algorithm Function\n",
    "\n",
    "def genetic(domain, fitness_function, population_size = 100, step = 1,\n",
    "            probability_mutation = 0.2, elitism = 0.2,\n",
    "            number_generations = 500, search = False):\n",
    "  population = []\n",
    "  for i in range(population_size):\n",
    "    if search == True:\n",
    "      solution = random_search(domain, fitness_function)\n",
    "    else:\n",
    "      solution = [random.randint(domain[i][0], domain[i][1]) for i in range(len(domain))]\n",
    "    \n",
    "    population.append(solution)\n",
    "\n",
    "  number_elitism = int(elitism * population_size)\n",
    "\n",
    "  for i in range(number_generations):\n",
    "    costs = [(fitness_function(individual), individual) for individual in population]\n",
    "    costs.sort()\n",
    "    ordered_individuals = [individual for (cost, individual) in costs]\n",
    "    population = ordered_individuals[0:number_elitism]\n",
    "    while len(population) < population_size:\n",
    "      if random.random() < probability_mutation:\n",
    "        m = random.randint(0, number_elitism)\n",
    "        population.append(mutation(domain, step, ordered_individuals[m]))\n",
    "      else:\n",
    "        i1 = random.randint(0, number_elitism)\n",
    "        i2 = random.randint(0, number_elitism)\n",
    "        population.append(crossover(domain, ordered_individuals[i1], ordered_individuals[i2]))\n",
    "  return costs[0][1]"
   ]
  },
  {
   "cell_type": "markdown",
   "metadata": {
    "id": "RkZ36Z8QJ2yt"
   },
   "source": [
    "## Hill Climb"
   ]
  },
  {
   "cell_type": "code",
   "execution_count": null,
   "metadata": {
    "id": "7fzku516J2Ru"
   },
   "outputs": [],
   "source": [
    "def hill_climb(domain, fitness_function, initial = []):\n",
    "  count = 0\n",
    "  \n",
    "  if len(initial) > 0:\n",
    "    solution = initial\n",
    "  else:\n",
    "    solution = [random.randint(domain[i][0],domain[i][1]) for i in range(len(domain))]\n",
    "  \n",
    "  while True:\n",
    "    neighbors = []\n",
    "    for i in range(len(domain)):\n",
    "      if solution[i] > domain[i][0]:\n",
    "        if solution[i] != domain[i][1]:\n",
    "          neighbors.append(solution[0:i] + [solution[i] + 1] + solution[i + 1:])\n",
    "      if solution[i] < domain[i][1]:\n",
    "        if solution[i] != domain[i][0]:\n",
    "          neighbors.append(solution[0:i] + [solution[i] - 1] + solution[i + 1:])\n",
    "\n",
    "    actual = fitness_function(solution)\n",
    "    best = actual\n",
    "    for i in range(len(neighbors)):\n",
    "      count += 1\n",
    "      cost = fitness_function(neighbors[i])\n",
    "      if cost > best:\n",
    "        best = cost\n",
    "        solution = neighbors[i]\n",
    "\n",
    "    if best == actual:\n",
    "      print('Count: ', count)\n",
    "      break\n",
    "\n",
    "  return solution"
   ]
  },
  {
   "cell_type": "markdown",
   "metadata": {
    "id": "_kzXMn84od72"
   },
   "source": [
    "## Simulated Annealing"
   ]
  },
  {
   "cell_type": "code",
   "execution_count": null,
   "metadata": {
    "id": "FhyCZLFcodmP"
   },
   "outputs": [],
   "source": [
    "def simulated_anneling(domain, fitness_function, temperature = 50000.0,\n",
    "                       cooling = 0.95, step = 1, initial = [], search = False):\n",
    "  count = 0\n",
    "  if search==True:\n",
    "    solution = random_search(domain, fitness_function)\n",
    "\n",
    "  elif len(initial) > 0:\n",
    "    solution = initial\n",
    "  else:\n",
    "    solution = [random.randint(domain[i][0], domain[i][1]) for i in range(len(domain))]\n",
    "   \n",
    "  while temperature > 0.1:\n",
    "    i = random.randint(0, len(domain) - 1)\n",
    "    direction = random.randint(-step, step)\n",
    "    temp_solution = solution[:] \n",
    "    temp_solution[i] += direction\n",
    "    if temp_solution[i] < domain[i][0]:\n",
    "      temp_solution[i] = domain[i][0]\n",
    "    elif temp_solution[i] > domain[i][1]:\n",
    "      temp_solution[i] = domain[i][1]\n",
    "\n",
    "    count += 1\n",
    "    cost_solution = fitness_function(solution)\n",
    "    cost_solution_temp = fitness_function(temp_solution)\n",
    "    probability = pow(math.e, (-cost_solution_temp - cost_solution) / temperature)\n",
    "    if (cost_solution_temp > cost_solution or random.random() < probability):\n",
    "      solution = temp_solution\n",
    "\n",
    "    temperature = temperature * cooling\n",
    "\n",
    "  print('Count: ', count)\n",
    "  return solution"
   ]
  },
  {
   "cell_type": "markdown",
   "metadata": {
    "id": "g6aRxPxtKWTf"
   },
   "source": [
    "## Implementation"
   ]
  },
  {
   "cell_type": "code",
   "execution_count": null,
   "metadata": {
    "id": "3-mPNbK9DbB5"
   },
   "outputs": [],
   "source": [
    "products = [('Rice', 50, 0.8),\n",
    "            ('Pencils', 20, 0.5),\n",
    "            ('Chocolates',35, 0.45),\n",
    "            ('Shampoo', 90, 0.35),\n",
    "            ('Pasta & Maggi', 70, 0.6),\n",
    "            ('Butter', 78, 0.44),\n",
    "            ('Fruits', 130, 0.7)]\n",
    "# products = [('Rice', 50, 7),\n",
    "#             ('Pencils', 20, 5),\n",
    "#             ('Chocolates',35, 4),\n",
    "#             ('Shampoo', 90, 3),\n",
    "#             ('Pasta & Maggi', 70, 6),\n",
    "#             ('Butter', 78, 3),\n",
    "#             ('Fruits', 130, 5)]"
   ]
  },
  {
   "cell_type": "code",
   "execution_count": null,
   "metadata": {
    "colab": {
     "base_uri": "https://localhost:8080/"
    },
    "id": "esfv4Cv4DbGI",
    "outputId": "50976f00-4a93-4e7a-baa5-79689f492c73"
   },
   "outputs": [
    {
     "data": {
      "text/plain": [
       "3.04"
      ]
     },
     "execution_count": 42,
     "metadata": {
      "tags": []
     },
     "output_type": "execute_result"
    }
   ],
   "source": [
    "0.8 + 0.44 + 0.7 + 0.6 + 0.5"
   ]
  },
  {
   "cell_type": "code",
   "execution_count": null,
   "metadata": {
    "colab": {
     "base_uri": "https://localhost:8080/"
    },
    "id": "Pu9JaS1NOBSj",
    "outputId": "0cedbf1b-3914-49c1-dd21-9b5f5d80a790"
   },
   "outputs": [
    {
     "data": {
      "text/plain": [
       "348"
      ]
     },
     "execution_count": 41,
     "metadata": {
      "tags": []
     },
     "output_type": "execute_result"
    }
   ],
   "source": [
    "50 + 130 + 78 + 70 + 20"
   ]
  },
  {
   "cell_type": "code",
   "execution_count": null,
   "metadata": {
    "id": "i1vOyxBqDbK_"
   },
   "outputs": [],
   "source": [
    "available_budget = 350"
   ]
  },
  {
   "cell_type": "code",
   "execution_count": null,
   "metadata": {
    "colab": {
     "base_uri": "https://localhost:8080/"
    },
    "id": "AdUhYP1XDbOo",
    "outputId": "6b6f7b3a-e70d-4e5a-cb8e-f724af31b2cb"
   },
   "outputs": [
    {
     "data": {
      "text/plain": [
       "[(0, 1), (0, 1), (0, 1), (0, 1), (0, 1), (0, 1), (0, 1)]"
      ]
     },
     "execution_count": 9,
     "metadata": {
      "tags": []
     },
     "output_type": "execute_result"
    }
   ],
   "source": [
    "domain = [(0, 1)] * len(products)\n",
    "domain"
   ]
  },
  {
   "cell_type": "code",
   "execution_count": null,
   "metadata": {
    "id": "edoDFFG1DbS-"
   },
   "outputs": [],
   "source": [
    "def print_solution(solution):\n",
    "  for i in range(len(solution)):\n",
    "    if solution[i] == 1:\n",
    "      print('%s - %s' % (products[i][0], products[i][1]))"
   ]
  },
  {
   "cell_type": "code",
   "execution_count": null,
   "metadata": {
    "colab": {
     "base_uri": "https://localhost:8080/"
    },
    "id": "alEteLmcDbXW",
    "outputId": "407ca05b-0d82-4289-8bd5-22bfc5b917f1"
   },
   "outputs": [
    {
     "name": "stdout",
     "output_type": "stream",
     "text": [
      "Pencils - 20\n",
      "Chocolates - 35\n",
      "Pasta & Maggi - 70\n",
      "Butter - 78\n"
     ]
    }
   ],
   "source": [
    "print_solution([0, 1, 1, 0, 1, 1, 0])"
   ]
  },
  {
   "cell_type": "code",
   "execution_count": null,
   "metadata": {
    "id": "jtol76SfDbbJ"
   },
   "outputs": [],
   "source": [
    "def fitness_function(solution):\n",
    "  value = 0\n",
    "  sum_cost = 0\n",
    "  for i in range(len(solution)):\n",
    "    if solution[i] == 1:\n",
    "      value += products[i][2]\n",
    "      sum_cost += products[i][1]\n",
    "  if sum_cost > available_budget:\n",
    "    value = 400\n",
    "  return value"
   ]
  },
  {
   "cell_type": "code",
   "execution_count": null,
   "metadata": {
    "colab": {
     "base_uri": "https://localhost:8080/"
    },
    "id": "mqd_F-UQGx_U",
    "outputId": "f5994619-190a-4109-9c49-12b69fee6305"
   },
   "outputs": [
    {
     "data": {
      "text/plain": [
       "1.9899999999999998"
      ]
     },
     "execution_count": 15,
     "metadata": {
      "tags": []
     },
     "output_type": "execute_result"
    }
   ],
   "source": [
    "fitness_function([0, 1, 1, 0, 1, 1, 0])"
   ]
  },
  {
   "cell_type": "code",
   "execution_count": null,
   "metadata": {
    "colab": {
     "base_uri": "https://localhost:8080/"
    },
    "id": "_CWWxqCTHgza",
    "outputId": "10397f42-7ae4-4519-d95c-27014d4c4f94"
   },
   "outputs": [
    {
     "name": "stdout",
     "output_type": "stream",
     "text": [
      "3.14 343\n",
      "3.14\n",
      "Rice - 50\n",
      "Pencils - 20\n",
      "Chocolates - 35\n",
      "Shampoo - 90\n",
      "Pasta & Maggi - 70\n",
      "Butter - 78\n"
     ]
    }
   ],
   "source": [
    "solution_random = random_search(domain, fitness_function)\n",
    "cost = fitness_function(solution_random, verbose=True)\n",
    "print(cost)\n",
    "print_solution(solution_random)"
   ]
  },
  {
   "cell_type": "code",
   "execution_count": null,
   "metadata": {
    "colab": {
     "base_uri": "https://localhost:8080/"
    },
    "id": "A73BTSoPG2Z_",
    "outputId": "4fd7a54a-042f-4b0c-af0c-aa19ff0253df"
   },
   "outputs": [
    {
     "name": "stdout",
     "output_type": "stream",
     "text": [
      "0\n"
     ]
    }
   ],
   "source": [
    "solution_genetic = genetic(domain, fitness_function,search=True)\n",
    "cost = fitness_function(solution_genetic)\n",
    "print(cost)\n",
    "print_solution(solution_genetic)"
   ]
  },
  {
   "cell_type": "code",
   "execution_count": null,
   "metadata": {
    "colab": {
     "base_uri": "https://localhost:8080/"
    },
    "id": "aTjuofduHl5t",
    "outputId": "9e92bff9-19ab-4428-ab09-ce1e3abc2642"
   },
   "outputs": [
    {
     "name": "stdout",
     "output_type": "stream",
     "text": [
      "Count:  0\n",
      "0.85 110\n",
      "0.85\n",
      "Pencils - 20\n",
      "Shampoo - 90\n"
     ]
    }
   ],
   "source": [
    "solution_hill = hill_climb(domain, fitness_function)\n",
    "cost = fitness_function(solution_hill, verbose=True)\n",
    "print(cost)\n",
    "print_solution(solution_hill)"
   ]
  },
  {
   "cell_type": "code",
   "execution_count": null,
   "metadata": {
    "colab": {
     "base_uri": "https://localhost:8080/"
    },
    "id": "8kYM-jEXo-y2",
    "outputId": "2d704361-1b9e-4e18-d53d-9804bbe08106"
   },
   "outputs": [
    {
     "name": "stdout",
     "output_type": "stream",
     "text": [
      "Count:  256\n",
      "2.8 325\n",
      "2.8\n",
      "Rice - 50\n",
      "Pencils - 20\n",
      "Chocolates - 35\n",
      "Shampoo - 90\n",
      "Fruits - 130\n"
     ]
    }
   ],
   "source": [
    "solution = simulated_anneling(domain, fitness_function,search=True)\n",
    "cost = fitness_function(solution, verbose=True)\n",
    "print(cost)\n",
    "print_solution(solution)"
   ]
  },
  {
   "cell_type": "markdown",
   "metadata": {
    "id": "7_lIDE7QH6LQ"
   },
   "source": [
    "# Neuroevolution"
   ]
  },
  {
   "cell_type": "code",
   "execution_count": null,
   "metadata": {
    "id": "gkCBzDiOpb74"
   },
   "outputs": [],
   "source": [
    "import numpy as np\n",
    "import torch\n",
    "from torch import nn\n",
    "import torch.nn.functional as F\n",
    "import copy\n",
    "from time import time\n",
    "import sys"
   ]
  },
  {
   "cell_type": "code",
   "execution_count": null,
   "metadata": {
    "colab": {
     "base_uri": "https://localhost:8080/"
    },
    "id": "_aQQIY4UH_6f",
    "outputId": "7e097d7a-b2cb-405c-af31-b9e2f1f94d89"
   },
   "outputs": [
    {
     "data": {
      "text/plain": [
       "<torch.autograd.grad_mode.set_grad_enabled at 0x7f6d6ebd5cd0>"
      ]
     },
     "execution_count": 59,
     "metadata": {
      "tags": []
     },
     "output_type": "execute_result"
    }
   ],
   "source": [
    "torch.set_grad_enabled(False)"
   ]
  },
  {
   "cell_type": "code",
   "execution_count": null,
   "metadata": {
    "id": "eUfblL4oIDg3"
   },
   "outputs": [],
   "source": [
    "class Agent(nn.Module):\n",
    "    '''The brain of the agent'''\n",
    "    def __init__(self):\n",
    "        super().__init__()\n",
    "        self.fc = nn.Sequential(nn.Linear(2, 16),\n",
    "                                nn.ReLU(),\n",
    "                                nn.Linear(16, 1),\n",
    "                                nn.Sigmoid())\n",
    "        \n",
    "    def forward(self, inputs):\n",
    "        x = self.fc(inputs)\n",
    "        out = x.round()\n",
    "        return out"
   ]
  },
  {
   "cell_type": "code",
   "execution_count": null,
   "metadata": {
    "id": "inDbpEcBITTY"
   },
   "outputs": [],
   "source": [
    "def initialize_population(pop_size=2):\n",
    "    '''Randomly initialize a bunch of agents'''\n",
    "    population = [Agent() for _ in range(pop_size)]\n",
    "    \n",
    "    return population"
   ]
  },
  {
   "cell_type": "code",
   "execution_count": null,
   "metadata": {
    "id": "GwR8kRHkIVFw"
   },
   "outputs": [],
   "source": [
    "def evaluate_agent(agent):\n",
    "    '''Evaluate an agent for the cost'''\n",
    "    agent.eval()\n",
    "    solution = []\n",
    "\n",
    "    total_cost = 0\n",
    "    total_val = 0\n",
    "\n",
    "    for _, price, necessity in products:\n",
    "        x = torch.Tensor([[price/130, necessity]])\n",
    "        pred = agent(x).squeeze(0).item()\n",
    "        solution.append(pred)\n",
    "        if pred == 1:\n",
    "            total_cost += price\n",
    "            total_val += necessity\n",
    "    \n",
    "    fitness = 0\n",
    "    if total_cost > available_budget:\n",
    "        fitness = - (total_cost - available_budget)\n",
    "    else:\n",
    "        fitness = total_val\n",
    "\n",
    "    return fitness"
   ]
  },
  {
   "cell_type": "code",
   "execution_count": null,
   "metadata": {
    "id": "BTkPEahdNet6"
   },
   "outputs": [],
   "source": [
    "def evaluate_population(population):\n",
    "    '''Evaluate the population'''\n",
    "    pop_fitness = []\n",
    "    \n",
    "    for agent in population:\n",
    "        pop_fitness.append(evaluate_agent(agent))\n",
    "        \n",
    "    return pop_fitness"
   ]
  },
  {
   "cell_type": "code",
   "execution_count": null,
   "metadata": {
    "id": "KZDDw1QjNfpi"
   },
   "outputs": [],
   "source": [
    "def mutate(parent_agent, mutation_power=0.02):\n",
    "    '''Creates a mutated copy of the parent agent by adding a weighted gaussian noise to the params'''\n",
    "    child_agent = copy.deepcopy(parent_agent)\n",
    "    \n",
    "    for param in child_agent.parameters():\n",
    "        param.data = param.data + (torch.randn(param.shape) * mutation_power)\n",
    "        \n",
    "    return child_agent"
   ]
  },
  {
   "cell_type": "code",
   "execution_count": null,
   "metadata": {
    "id": "1t8M6yEkNhPk"
   },
   "outputs": [],
   "source": [
    "def repopulate(top_agents, pop_size, mutation_power):\n",
    "    '''Repopulate the population from the top agents by mutation'''\n",
    "    new_population = []\n",
    "    \n",
    "    n = 0\n",
    "    while(n < pop_size):\n",
    "        for parent in top_agents:\n",
    "            child = mutate(parent, mutation_power)\n",
    "            new_population.append(child)\n",
    "            n += 1\n",
    "            \n",
    "    return new_population[:pop_size - 1]"
   ]
  },
  {
   "cell_type": "code",
   "execution_count": null,
   "metadata": {
    "id": "13zlhgYKLelh"
   },
   "outputs": [],
   "source": [
    "def evolve(generations=10, \n",
    "           pop_size=100, \n",
    "           topK=20,\n",
    "           mutation_power=0.02):\n",
    "    '''Start the process of evolution'''\n",
    "    \n",
    "    global TRAINED_AGENT\n",
    "    \n",
    "    population = initialize_population(pop_size)\n",
    "    global_best = {}\n",
    "    \n",
    "    for g in range(generations):\n",
    "        \n",
    "        # Evaluate the population\n",
    "        pop_fitness = evaluate_population(population)\n",
    "        mean_pop_reward = np.array(pop_fitness).mean()\n",
    "        \n",
    "        # Rank the agents in descending order\n",
    "        topK_idx = np.argsort(pop_fitness)[::-1][:topK]\n",
    "        topK_agents = [population[i] for i in topK_idx]\n",
    "        \n",
    "        # Get Best Agent\n",
    "        best_agent = population[topK_idx[0]]\n",
    "        best_reward = pop_fitness[topK_idx[0]]\n",
    "        \n",
    "        # Check with global best\n",
    "        if g == 0:\n",
    "            global_best['reward'] = best_reward\n",
    "            global_best['agent'] = best_agent\n",
    "        else:\n",
    "            if best_reward >= global_best['reward']:\n",
    "                global_best['reward'] = best_reward\n",
    "                global_best['agent'] = best_agent\n",
    "                \n",
    "        print('Generation', g)\n",
    "        print('Mean Reward of Population', mean_pop_reward)\n",
    "        print('Best Agent Reward (mean)', best_reward)\n",
    "        print('Global Best Reward (mean)', global_best['reward'], '\\n')\n",
    "        \n",
    "        # Mutate and Repopulate\n",
    "        new_population = repopulate(topK_agents, pop_size, mutation_power)\n",
    "        # take the best agent of generation forward without cloning as well\n",
    "        new_population.append(best_agent)\n",
    "        \n",
    "        population = new_population\n",
    "        \n",
    "        TRAINED_AGENT = global_best"
   ]
  },
  {
   "cell_type": "code",
   "execution_count": null,
   "metadata": {
    "id": "q94gYHk2OoR8"
   },
   "outputs": [],
   "source": [
    "def get_solution(agent, products, verbose=True):\n",
    "    print_sol = []\n",
    "    solution = []\n",
    "    total_cost = 0\n",
    "    total_val = 0\n",
    "\n",
    "    for product, price, necessity in products:\n",
    "        x = torch.Tensor([[price/130, necessity]])\n",
    "        pred = agent(x).squeeze(0).item()\n",
    "        solution.append(pred)\n",
    "        if pred == 1:\n",
    "            total_cost += price\n",
    "            total_val += necessity\n",
    "            print_sol.append(f\"{product}: Rs {price}\")\n",
    "\n",
    "    if verbose:\n",
    "        print(f'Total Cost: Rs {total_cost}')\n",
    "        print(f'Necessity Value: {total_val}\\n')\n",
    "        print('\\n'.join(print_sol))\n",
    "\n",
    "    return solution, total_cost, total_val"
   ]
  },
  {
   "cell_type": "code",
   "execution_count": null,
   "metadata": {
    "id": "p0R0BW8PIsEm"
   },
   "outputs": [],
   "source": [
    "products = [('Rice', 50, 0.8),\n",
    "            ('Pencils', 20, 0.5),\n",
    "            ('Chocolates',35, 0.45),\n",
    "            ('Shampoo', 90, 0.35),\n",
    "            ('Pasta & Maggi', 70, 0.6),\n",
    "            ('Butter', 78, 0.44),\n",
    "            ('Fruits', 130, 0.7)]\n",
    "\n",
    "available_budget = 350"
   ]
  },
  {
   "cell_type": "code",
   "execution_count": null,
   "metadata": {
    "id": "PAz2xRtZPMbD"
   },
   "outputs": [],
   "source": [
    "TRAINED_AGENT = {}"
   ]
  },
  {
   "cell_type": "code",
   "execution_count": null,
   "metadata": {
    "colab": {
     "base_uri": "https://localhost:8080/"
    },
    "id": "DErdhhB5OcRY",
    "outputId": "0e50fd12-bf77-4c6f-f16f-6434e6a05d60"
   },
   "outputs": [],
   "source": [
    "evolve(generations=30,\n",
    "       pop_size=20, \n",
    "       topK=10,\n",
    "       mutation_power=0.02)"
   ]
  },
  {
   "cell_type": "code",
   "execution_count": null,
   "metadata": {
    "colab": {
     "base_uri": "https://localhost:8080/"
    },
    "id": "QN8rZKUEQ2Vg",
    "outputId": "bc36338f-605b-47d4-b664-45fa1efe41b4"
   },
   "outputs": [],
   "source": [
    "solution, cost, value = get_solution(TRAINED_AGENT['agent'], products)"
   ]
  },
  {
   "cell_type": "code",
   "execution_count": null,
   "metadata": {
    "id": "WDF-WuWym8fC"
   },
   "outputs": [],
   "source": []
  }
 ],
 "metadata": {
  "colab": {
   "collapsed_sections": [
    "Gugfq3dleKcn",
    "VGmVaXNQBLwa",
    "Nf3jofsVA5Mg",
    "LO8lgPmTs-NA"
   ],
   "name": "N-Queens.ipynb",
   "provenance": [],
   "toc_visible": true
  },
  "kernelspec": {
   "display_name": "Python 3",
   "language": "python",
   "name": "python3"
  },
  "language_info": {
   "codemirror_mode": {
    "name": "ipython",
    "version": 3
   },
   "file_extension": ".py",
   "mimetype": "text/x-python",
   "name": "python",
   "nbconvert_exporter": "python",
   "pygments_lexer": "ipython3",
   "version": "3.8.5"
  },
  "widgets": {
   "application/vnd.jupyter.widget-state+json": {
    "0334f14a2e7243a49567fe0f3efa5a9c": {
     "model_module": "@jupyter-widgets/controls",
     "model_name": "ProgressStyleModel",
     "state": {
      "_model_module": "@jupyter-widgets/controls",
      "_model_module_version": "1.5.0",
      "_model_name": "ProgressStyleModel",
      "_view_count": null,
      "_view_module": "@jupyter-widgets/base",
      "_view_module_version": "1.2.0",
      "_view_name": "StyleView",
      "bar_color": null,
      "description_width": "initial"
     }
    },
    "174404c9bd984ef694c5ecdb27c05a54": {
     "model_module": "@jupyter-widgets/base",
     "model_name": "LayoutModel",
     "state": {
      "_model_module": "@jupyter-widgets/base",
      "_model_module_version": "1.2.0",
      "_model_name": "LayoutModel",
      "_view_count": null,
      "_view_module": "@jupyter-widgets/base",
      "_view_module_version": "1.2.0",
      "_view_name": "LayoutView",
      "align_content": null,
      "align_items": null,
      "align_self": null,
      "border": null,
      "bottom": null,
      "display": null,
      "flex": null,
      "flex_flow": null,
      "grid_area": null,
      "grid_auto_columns": null,
      "grid_auto_flow": null,
      "grid_auto_rows": null,
      "grid_column": null,
      "grid_gap": null,
      "grid_row": null,
      "grid_template_areas": null,
      "grid_template_columns": null,
      "grid_template_rows": null,
      "height": null,
      "justify_content": null,
      "justify_items": null,
      "left": null,
      "margin": null,
      "max_height": null,
      "max_width": null,
      "min_height": null,
      "min_width": null,
      "object_fit": null,
      "object_position": null,
      "order": null,
      "overflow": null,
      "overflow_x": null,
      "overflow_y": null,
      "padding": null,
      "right": null,
      "top": null,
      "visibility": null,
      "width": null
     }
    },
    "2dd779ec6ba9420c96e7f388a122c597": {
     "model_module": "@jupyter-widgets/controls",
     "model_name": "FloatProgressModel",
     "state": {
      "_dom_classes": [],
      "_model_module": "@jupyter-widgets/controls",
      "_model_module_version": "1.5.0",
      "_model_name": "FloatProgressModel",
      "_view_count": null,
      "_view_module": "@jupyter-widgets/controls",
      "_view_module_version": "1.5.0",
      "_view_name": "ProgressView",
      "bar_style": "danger",
      "description": "  0%",
      "description_tooltip": null,
      "layout": "IPY_MODEL_174404c9bd984ef694c5ecdb27c05a54",
      "max": 999,
      "min": 0,
      "orientation": "horizontal",
      "style": "IPY_MODEL_0334f14a2e7243a49567fe0f3efa5a9c",
      "value": 0
     }
    },
    "30d584d17aed4bbc9ccb42e9c36f6976": {
     "model_module": "@jupyter-widgets/controls",
     "model_name": "HBoxModel",
     "state": {
      "_dom_classes": [],
      "_model_module": "@jupyter-widgets/controls",
      "_model_module_version": "1.5.0",
      "_model_name": "HBoxModel",
      "_view_count": null,
      "_view_module": "@jupyter-widgets/controls",
      "_view_module_version": "1.5.0",
      "_view_name": "HBoxView",
      "box_style": "",
      "children": [
       "IPY_MODEL_2dd779ec6ba9420c96e7f388a122c597",
       "IPY_MODEL_58b0db7c769b456d8e58eb8351c38ade"
      ],
      "layout": "IPY_MODEL_a42e7977f7ef40ebafdfa3e5bba70f86"
     }
    },
    "58b0db7c769b456d8e58eb8351c38ade": {
     "model_module": "@jupyter-widgets/controls",
     "model_name": "HTMLModel",
     "state": {
      "_dom_classes": [],
      "_model_module": "@jupyter-widgets/controls",
      "_model_module_version": "1.5.0",
      "_model_name": "HTMLModel",
      "_view_count": null,
      "_view_module": "@jupyter-widgets/controls",
      "_view_module_version": "1.5.0",
      "_view_name": "HTMLView",
      "description": "",
      "description_tooltip": null,
      "layout": "IPY_MODEL_938e5e0256e04cdf9fb6f395a61b74ad",
      "placeholder": "​",
      "style": "IPY_MODEL_7417928185534577af7ee7160a952188",
      "value": " 0/999 [00:00&lt;?, ?it/s]"
     }
    },
    "7417928185534577af7ee7160a952188": {
     "model_module": "@jupyter-widgets/controls",
     "model_name": "DescriptionStyleModel",
     "state": {
      "_model_module": "@jupyter-widgets/controls",
      "_model_module_version": "1.5.0",
      "_model_name": "DescriptionStyleModel",
      "_view_count": null,
      "_view_module": "@jupyter-widgets/base",
      "_view_module_version": "1.2.0",
      "_view_name": "StyleView",
      "description_width": ""
     }
    },
    "938e5e0256e04cdf9fb6f395a61b74ad": {
     "model_module": "@jupyter-widgets/base",
     "model_name": "LayoutModel",
     "state": {
      "_model_module": "@jupyter-widgets/base",
      "_model_module_version": "1.2.0",
      "_model_name": "LayoutModel",
      "_view_count": null,
      "_view_module": "@jupyter-widgets/base",
      "_view_module_version": "1.2.0",
      "_view_name": "LayoutView",
      "align_content": null,
      "align_items": null,
      "align_self": null,
      "border": null,
      "bottom": null,
      "display": null,
      "flex": null,
      "flex_flow": null,
      "grid_area": null,
      "grid_auto_columns": null,
      "grid_auto_flow": null,
      "grid_auto_rows": null,
      "grid_column": null,
      "grid_gap": null,
      "grid_row": null,
      "grid_template_areas": null,
      "grid_template_columns": null,
      "grid_template_rows": null,
      "height": null,
      "justify_content": null,
      "justify_items": null,
      "left": null,
      "margin": null,
      "max_height": null,
      "max_width": null,
      "min_height": null,
      "min_width": null,
      "object_fit": null,
      "object_position": null,
      "order": null,
      "overflow": null,
      "overflow_x": null,
      "overflow_y": null,
      "padding": null,
      "right": null,
      "top": null,
      "visibility": null,
      "width": null
     }
    },
    "a42e7977f7ef40ebafdfa3e5bba70f86": {
     "model_module": "@jupyter-widgets/base",
     "model_name": "LayoutModel",
     "state": {
      "_model_module": "@jupyter-widgets/base",
      "_model_module_version": "1.2.0",
      "_model_name": "LayoutModel",
      "_view_count": null,
      "_view_module": "@jupyter-widgets/base",
      "_view_module_version": "1.2.0",
      "_view_name": "LayoutView",
      "align_content": null,
      "align_items": null,
      "align_self": null,
      "border": null,
      "bottom": null,
      "display": null,
      "flex": null,
      "flex_flow": null,
      "grid_area": null,
      "grid_auto_columns": null,
      "grid_auto_flow": null,
      "grid_auto_rows": null,
      "grid_column": null,
      "grid_gap": null,
      "grid_row": null,
      "grid_template_areas": null,
      "grid_template_columns": null,
      "grid_template_rows": null,
      "height": null,
      "justify_content": null,
      "justify_items": null,
      "left": null,
      "margin": null,
      "max_height": null,
      "max_width": null,
      "min_height": null,
      "min_width": null,
      "object_fit": null,
      "object_position": null,
      "order": null,
      "overflow": null,
      "overflow_x": null,
      "overflow_y": null,
      "padding": null,
      "right": null,
      "top": null,
      "visibility": null,
      "width": null
     }
    }
   }
  }
 },
 "nbformat": 4,
 "nbformat_minor": 1
}
